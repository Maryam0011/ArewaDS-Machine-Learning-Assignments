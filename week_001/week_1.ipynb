{
 "cells": [
  {
   "attachments": {},
   "cell_type": "markdown",
   "metadata": {},
   "source": [
    "Arewa Datascience Machine Learning for Beginners"
   ]
  },
  {
   "attachments": {},
   "cell_type": "markdown",
   "metadata": {},
   "source": [
    "An Introduction of Machine learning was the focus of this week, after completing the 30 days of python.\n",
    "Getting started with machine learning\n",
    "The need to set-up your computer locally through the following steps\n",
    "Configure your machine with these videos. Use the following links to learn how to install Python in your system and setup a text editor for development.\n",
    "Learn Python. It's also recommended to have a basic understanding of Python, a programming language useful for data scientists that we use in this course.\n",
    "Create a GitHub account. Since you found us here on GitHub, you might already have an account, but if not, create one and then fork this curriculum to use on your own.\n",
    "Explore Scikit-learn. Familiarize yourself with Scikit-learn, a set of ML libraries that we reference in these lessons.\n",
    "\n",
    "What is machine learning?\n",
    "The term 'machine learning' is one of the most popular and frequently used terms of today. There is a nontrivial possibility that you have heard this term at least once if you have some sort of familiarity with technology, no matter what domain you work in. The mechanics of machine learning, however, are a mystery to most people. For a machine learning beginner, the subject can sometimes feel overwhelming. Therefore, it is important to understand what machine learning actually is, and to learn about it step by step, through practical examples.\n",
    "\n",
    "Examples of applied ML\n",
    "You can use machine learning in many ways:\n",
    "To predict the likelihood of disease from a patient's medical history or reports.\n",
    "To leverage weather data to predict weather events.\n",
    "To understand the sentiment of a text.\n",
    "To detect fake news to stop the spread of propaganda.\n",
    "Finance, economics, earth science, space exploration, biomedical engineering, cognitive science, and even fields in the humanities have adapted machine learning to solve the arduous, data-processing heavy problems of their domain.\n",
    "\n",
    "History of machine learning\n",
    "The lesson, we will walk through the major milestones in the history of machine learning and artificial intelligence.\n",
    "The history of artificial intelligence (AI) as a field is intertwined with the history of machine learning, as the algorithms and computational advances that underpin ML fed into the development of AI. It is useful to remember that, while these fields as distinct areas of inquiry began to crystallize in the 1950s, important algorithmic, statistical, mathematical, computational and technical discoveries predated and overlapped this era. In fact, people have been thinking about these questions for hundreds of years: this article discusses the historical intellectual underpinnings of the idea of a 'thinking machine.'\n",
    "\n",
    "Fairness in Machine Learning\n",
    "The lesson introduce:\n",
    "Raise your awareness of the importance of fairness in machine learning.\n",
    "Learn about fairness-related harms.\n",
    "Learn about unfairness assessment and mitigation.\n",
    "\n",
    "Techniques of Machine Learning\n",
    "The process of building, using, and maintaining machine learning models and the data they use is a very different process from many other development workflows. In this lesson, we will demystify the process, and outline the main techniques you need to know. You will:\n",
    "\n",
    "Understand the processes underpinning machine learning at a high level.\n",
    "Explore base concepts such as 'models', 'predictions', and 'training data'."
   ]
  }
 ],
 "metadata": {
  "language_info": {
   "name": "python"
  },
  "orig_nbformat": 4
 },
 "nbformat": 4,
 "nbformat_minor": 2
}
