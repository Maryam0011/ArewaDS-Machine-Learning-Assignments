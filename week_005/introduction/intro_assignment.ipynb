{
 "cells": [
  {
   "attachments": {},
   "cell_type": "markdown",
   "metadata": {
    "tags": [
     "https://docs.google.com/spreadsheets/d/1CHDYSoJcmqabdda7PrxrBAIR8PFo_ukAQb5V7j9l7s4/edit#gid=0"
    ]
   },
   "source": [
    "Instructions\n",
    "In Scikit-learn documentation you'll find a large list of ways to classify data. Do a little scavenger hunt in these docs: your goals is to look for classification methods and match a dataset in this curriculum, a question you can ask of it, and a technique of classification. Create a spreadsheet or table in a .doc file and explain how the dataset would work with the classification algorithm. Here\n",
    "\n"
   ]
  },
  {
   "attachments": {},
   "cell_type": "markdown",
   "metadata": {},
   "source": [
    "https://docs.google.com/spreadsheets/d/1CHDYSoJcmqabdda7PrxrBAIR8PFo_ukAQb5V7j9l7s4/edit#gid=0"
   ]
  }
 ],
 "metadata": {
  "language_info": {
   "name": "python"
  },
  "orig_nbformat": 4
 },
 "nbformat": 4,
 "nbformat_minor": 2
}
